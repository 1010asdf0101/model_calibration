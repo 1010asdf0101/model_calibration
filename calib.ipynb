{
 "cells": [
  {
   "cell_type": "code",
   "execution_count": 1,
   "metadata": {},
   "outputs": [],
   "source": [
    "import numpy as np\n",
    "with open('logits.txt', 'r') as f:\n",
    "    str=f.read()\n",
    "    str = [s.split(',') for s in str.split('\\n')]\n",
    "\n",
    "logits_np = np.array([[float(x) for x in y] for y in str], dtype= np.float32)"
   ]
  },
  {
   "cell_type": "code",
   "execution_count": 2,
   "metadata": {},
   "outputs": [],
   "source": [
    "with open('labels.txt', 'r') as f:\n",
    "    str = f.read()\n",
    "labels_np = np.array([int(s) for s in str.split('\\n')], dtype=np.int32)"
   ]
  },
  {
   "cell_type": "code",
   "execution_count": 3,
   "metadata": {},
   "outputs": [
    {
     "name": "stderr",
     "output_type": "stream",
     "text": [
      "/home/shawnman99/anaconda3/envs/shawn99/lib/python3.8/site-packages/tqdm/auto.py:22: TqdmWarning: IProgress not found. Please update jupyter and ipywidgets. See https://ipywidgets.readthedocs.io/en/stable/user_install.html\n",
      "  from .autonotebook import tqdm as notebook_tqdm\n"
     ]
    },
    {
     "data": {
      "text/plain": [
       "array([[1.3116044e-04, 1.2500000e-01, 0.0000000e+00, 0.0000000e+00,\n",
       "        4.0000001e-01, 0.0000000e+00, 0.0000000e+00, 3.3333334e-01,\n",
       "        4.0000001e-01, 0.0000000e+00, 6.6666669e-01, 5.0000000e-01,\n",
       "        6.6666669e-01, 7.1428573e-01, 9.9040306e-01],\n",
       "       [1.3049294e-03, 1.1111111e-01, 1.6666667e-01, 5.0000000e-01,\n",
       "        4.0000001e-01, 5.0000000e-01, 4.2857143e-01, 3.3333334e-01,\n",
       "        7.5000000e-01, 6.0000002e-01, 2.5000000e-01, 3.3333334e-01,\n",
       "        6.0000002e-01, 9.1666669e-01, 9.6904027e-01],\n",
       "       [1.0726126e-03, 2.6086956e-01, 5.0000000e-01, 5.0000000e-01,\n",
       "        5.0000000e-01, 3.3333334e-01, 5.0000000e-01, 5.7142860e-01,\n",
       "        3.3333334e-01, 5.0000000e-01, 5.0000000e-01, 1.0000000e+00,\n",
       "        7.5000000e-01, 6.9999999e-01, 9.2990655e-01],\n",
       "       [2.7995522e-03, 0.0000000e+00, 2.0000000e-01, 0.0000000e+00,\n",
       "        1.0000000e+00, 2.5000000e-01, 3.6363637e-01, 0.0000000e+00,\n",
       "        2.0000000e-01, 1.0000000e+00, 5.5555558e-01, 7.5000000e-01,\n",
       "        3.3333334e-01, 5.5555558e-01, 9.9880201e-01],\n",
       "       [3.5813122e-04, 3.0000001e-01, 3.7500000e-01, 3.3333334e-01,\n",
       "        6.0000002e-01, 0.0000000e+00, 1.0000000e+00, 1.0000000e+00,\n",
       "        6.6666669e-01, 1.0000000e+00, 0.0000000e+00, 7.5000000e-01,\n",
       "        1.0000000e+00, 1.0000000e+00, 9.9041533e-01],\n",
       "       [5.5349350e-04, 1.7647059e-01, 3.3333334e-01, 3.7500000e-01,\n",
       "        4.0000001e-01, 0.0000000e+00, 6.0000002e-01, 2.5000000e-01,\n",
       "        4.0000001e-01, 6.6666669e-01, 4.0000001e-01, 6.6666669e-01,\n",
       "        5.0000000e-01, 8.3333331e-01, 9.0909094e-01]], dtype=float32)"
      ]
     },
     "execution_count": 3,
     "metadata": {},
     "output_type": "execute_result"
    }
   ],
   "source": [
    "from recalibration import HistogramBinning\n",
    "Histo = HistogramBinning(logits_np, labels_np, 15)\n",
    "Histo.fit_histogram()"
   ]
  },
  {
   "cell_type": "code",
   "execution_count": 4,
   "metadata": {},
   "outputs": [
    {
     "name": "stdout",
     "output_type": "stream",
     "text": [
      "[9.9040306e-01 1.3049294e-03 1.0726126e-03 2.7995522e-03 3.5813122e-04\n",
      " 5.5349350e-04] [9.9040306e-01 1.3049294e-03 1.0726126e-03 2.7995522e-03 3.5813122e-04\n",
      " 5.5349350e-04]\n"
     ]
    },
    {
     "data": {
      "text/plain": [
       "'\\nclasses = Histo.classes\\nn_bins = Histo.n_bins\\nBins = np.zeros((n_bins, 2), dtype=np.float32)\\ncnt_class = np.zeros(classes, dtype=np.float32)\\nfor i, x in enumerate(Q):\\n    y = np.argmax(x)\\n    q = x.max()/x.sum()\\n    bidx = 0\\n    while q > (bidx+1)/n_bins: bidx+=1\\n    #print(f\"{p} : {labels_np[i]}, {x}\")\\n    Bins[bidx][0] += 1*int(labels_np[i] == np.argmax(x)) # indicator funtion\\n    Bins[bidx][1] += 1\\nm_avg_bins = np.array([(Bins[i, 0]/Bins[i, 1] if Bins[i, 1]>0 else 0) for i in range(n_bins)], dtype = np.float32)\\nprint(m_avg_bins)\\nplt_test_2 = draw_rel_diagram(m_avg_bins, 15,\\'Reliability Diagram\\') \\nplt_test_2.savefig(\\'plots/rel_diagram_test.png\\',bbox_inches=\\'tight\\')'"
      ]
     },
     "execution_count": 4,
     "metadata": {},
     "output_type": "execute_result"
    }
   ],
   "source": [
    "from recalibration import draw_rel_diagram\n",
    "m_avg_bins = Histo.make_average_bins()\n",
    "print(m_avg_bins)\n",
    "plt_test_2 = draw_rel_diagram(m_avg_bins, 15,'Reliability Diagram') \n",
    "plt_test_2.savefig('plots/rel_diagram_test.png',bbox_inches='tight')"
   ]
  }
 ],
 "metadata": {
  "kernelspec": {
   "display_name": "shawn99",
   "language": "python",
   "name": "python3"
  },
  "language_info": {
   "codemirror_mode": {
    "name": "ipython",
    "version": 3
   },
   "file_extension": ".py",
   "mimetype": "text/x-python",
   "name": "python",
   "nbconvert_exporter": "python",
   "pygments_lexer": "ipython3",
   "version": "3.8.16"
  },
  "orig_nbformat": 4
 },
 "nbformat": 4,
 "nbformat_minor": 2
}
