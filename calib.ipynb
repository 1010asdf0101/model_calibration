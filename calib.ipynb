{
 "cells": [
  {
   "cell_type": "code",
   "execution_count": 1,
   "metadata": {},
   "outputs": [],
   "source": [
    "import numpy as np\n",
    "with open('logits.txt', 'r') as f:\n",
    "    str=f.read()\n",
    "    str = [s.split(',') for s in str.split('\\n')]\n",
    "\n",
    "logits_np = np.array([[float(x) for x in y] for y in str], dtype= np.float32)"
   ]
  },
  {
   "cell_type": "code",
   "execution_count": 2,
   "metadata": {},
   "outputs": [],
   "source": [
    "with open('labels.txt', 'r') as f:\n",
    "    str = f.read()\n",
    "labels_np = np.array([int(s) for s in str.split('\\n')], dtype=np.int32)"
   ]
  },
  {
   "cell_type": "code",
   "execution_count": 3,
   "metadata": {},
   "outputs": [
    {
     "name": "stderr",
     "output_type": "stream",
     "text": [
      "/home/shawnman99/anaconda3/envs/shawn99/lib/python3.8/site-packages/tqdm/auto.py:22: TqdmWarning: IProgress not found. Please update jupyter and ipywidgets. See https://ipywidgets.readthedocs.io/en/stable/user_install.html\n",
      "  from .autonotebook import tqdm as notebook_tqdm\n"
     ]
    },
    {
     "name": "stdout",
     "output_type": "stream",
     "text": [
      "accr :  0.9942075623491553\n"
     ]
    }
   ],
   "source": [
    "from recalibration import *\n",
    "from calibration_library import metrics\n",
    "uncalibrated = np.array([np.exp(x)/np.sum(np.exp(x)) for x in logits_np], dtype=np.float32)\n",
    "cnt = 0\n",
    "for i, p in enumerate(uncalibrated):\n",
    "    if np.argmax(p) == labels_np[i]:\n",
    "        cnt+=1\n",
    "print('accr : ', cnt/len(uncalibrated))"
   ]
  },
  {
   "cell_type": "code",
   "execution_count": 4,
   "metadata": {},
   "outputs": [],
   "source": [
    "#Histo = HistogramBinning(logits_np, labels_np, 15)\n",
    "#Histo.fit_histogram()"
   ]
  },
  {
   "cell_type": "code",
   "execution_count": 5,
   "metadata": {},
   "outputs": [
    {
     "name": "stdout",
     "output_type": "stream",
     "text": [
      "Before temperature - NLL : 0.028185\n",
      "After temperature - NLL : 0.021907\n"
     ]
    }
   ],
   "source": [
    "tempcel = TemperatureScailing(logits_np, labels_np)\n",
    "tempcel.fit_temperature()"
   ]
  },
  {
   "cell_type": "code",
   "execution_count": 6,
   "metadata": {},
   "outputs": [
    {
     "name": "stdout",
     "output_type": "stream",
     "text": [
      "0.0038052232823636515 0.0019142936365506632\n",
      "[1.1881842e-06 3.1448369e-06 4.1876709e-07 9.9998212e-01 8.2258629e-07\n",
      " 1.2300457e-05]\n"
     ]
    }
   ],
   "source": [
    "ece = metrics.ECELoss()\n",
    "#calibrated = Histo.calibrate()\n",
    "#temp = 2.242\n",
    "#calibrated = np.array([np.exp(x/temp)/np.sum(np.exp(x/temp)) for x in logits_np], dtype=np.float32)\n",
    "calibrated = tempcel.calibrate()\n",
    "print(ece.loss(uncalibrated, labels_np, 15, False), ece.loss(calibrated, labels_np, 15, False))\n",
    "print(uncalibrated[178])"
   ]
  },
  {
   "cell_type": "code",
   "execution_count": 7,
   "metadata": {},
   "outputs": [
    {
     "name": "stdout",
     "output_type": "stream",
     "text": [
      "0.3484073281288147 0.4210316419601441\n",
      "[1.1881842e-06 3.1448369e-06 4.1876709e-07 9.9998212e-01 8.2258629e-07\n",
      " 1.2300457e-05]\n"
     ]
    }
   ],
   "source": [
    "mce = metrics.MCELoss()\n",
    "print(mce.loss(uncalibrated, labels_np, 15, False), mce.loss(calibrated, labels_np, 15, False))\n",
    "print(uncalibrated[178])"
   ]
  },
  {
   "cell_type": "code",
   "execution_count": 8,
   "metadata": {},
   "outputs": [
    {
     "name": "stdout",
     "output_type": "stream",
     "text": [
      "0.8327182905740474 0.8321306367660815\n",
      "[1.1881842e-06 3.1448369e-06 4.1876709e-07 9.9998212e-01 8.2258629e-07\n",
      " 1.2300457e-05]\n"
     ]
    }
   ],
   "source": [
    "sce = metrics.SCELoss()\n",
    "print(sce.loss(uncalibrated, labels_np, 15, False), sce.loss(calibrated, labels_np, 15, False))\n",
    "print(uncalibrated[178])"
   ]
  },
  {
   "cell_type": "code",
   "execution_count": 9,
   "metadata": {},
   "outputs": [
    {
     "name": "stdout",
     "output_type": "stream",
     "text": [
      "0.8315484553304805 0.8314232923421921\n"
     ]
    }
   ],
   "source": [
    "ace = metrics.ACELoss()\n",
    "print(ace.loss(uncalibrated, labels_np, 15, False), ace.loss(calibrated, labels_np, 15, False))\n"
   ]
  },
  {
   "cell_type": "code",
   "execution_count": 10,
   "metadata": {},
   "outputs": [
    {
     "name": "stdout",
     "output_type": "stream",
     "text": [
      "0.0018545327323408222 0.0057583549266272\n",
      "[1.1881842e-06 3.1448369e-06 4.1876709e-07 9.9998212e-01 8.2258629e-07\n",
      " 1.2300457e-05]\n"
     ]
    }
   ],
   "source": [
    "from copy import deepcopy\n",
    "tmp = deepcopy(uncalibrated)\n",
    "tmplb = deepcopy(labels_np)\n",
    "tmpca = deepcopy(calibrated)\n",
    "tace = metrics.TACELoss()\n",
    "print(tace.loss(tmp, tmplb, logits = False), tace.loss(tmpca, labels_np, logits = False))\n",
    "print(uncalibrated[178])"
   ]
  },
  {
   "cell_type": "code",
   "execution_count": 11,
   "metadata": {},
   "outputs": [
    {
     "name": "stdout",
     "output_type": "stream",
     "text": [
      "[0.         0.         0.         0.         0.         0.8\n",
      " 0.42857143 0.42857143 0.58333333 0.5        0.62162162 0.78947368\n",
      " 0.74576271 0.80314961 0.9981429 ]\n",
      "[0.         0.         0.         0.         0.         0.\n",
      " 0.         0.         0.         0.         0.         0.\n",
      " 0.         0.         0.89126853]\n"
     ]
    }
   ],
   "source": [
    "print(ece.bin_acc)\n",
    "print(tace.bin_acc)"
   ]
  },
  {
   "cell_type": "code",
   "execution_count": 12,
   "metadata": {},
   "outputs": [
    {
     "data": {
      "image/png": "[encoded data removed]",
      "text/plain": [
       "<Figure size 300x300 with 1 Axes>"
      ]
     },
     "metadata": {},
     "output_type": "display_data"
    }
   ],
   "source": [
    "p = draw_rel_diagram(ece.bin_acc, 15, 'Reliability Diagram')\n",
    "p.savefig('output.png')"
   ]
  },
  {
   "cell_type": "code",
   "execution_count": 13,
   "metadata": {},
   "outputs": [
    {
     "name": "stdout",
     "output_type": "stream",
     "text": [
      "1.5097726583480835\n"
     ]
    }
   ],
   "source": [
    "print(tempcel.optim_temp)"
   ]
  },
  {
   "cell_type": "code",
   "execution_count": null,
   "metadata": {},
   "outputs": [],
   "source": []
  }
 ],
 "metadata": {
  "kernelspec": {
   "display_name": "shawn99",
   "language": "python",
   "name": "python3"
  },
  "language_info": {
   "codemirror_mode": {
    "name": "ipython",
    "version": 3
   },
   "file_extension": ".py",
   "mimetype": "text/x-python",
   "name": "python",
   "nbconvert_exporter": "python",
   "pygments_lexer": "ipython3",
   "version": "3.8.16"
  },
  "orig_nbformat": 4
 },
 "nbformat": 4,
 "nbformat_minor": 2
}
