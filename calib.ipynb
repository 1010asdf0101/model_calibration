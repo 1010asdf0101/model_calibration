{
 "cells": [
  {
   "cell_type": "code",
   "execution_count": 79,
   "metadata": {},
   "outputs": [],
   "source": [
    "import numpy as np\n",
    "with open('valid_logits.txt', 'r') as f:\n",
    "    str=f.read()\n",
    "    str = [s.split(',') for s in str.split('\\n')]\n",
    "\n",
    "logits_np = np.array([[float(x) for x in y] for y in str], dtype= np.float32)"
   ]
  },
  {
   "cell_type": "code",
   "execution_count": 80,
   "metadata": {},
   "outputs": [],
   "source": [
    "with open('valid_labels.txt', 'r') as f:\n",
    "    str = f.read()\n",
    "labels_np = np.array([int(s) for s in str.split('\\n')], dtype=np.int32)"
   ]
  },
  {
   "cell_type": "code",
   "execution_count": 81,
   "metadata": {},
   "outputs": [
    {
     "name": "stdout",
     "output_type": "stream",
     "text": [
      "accr :  0.9942075623491553\n"
     ]
    }
   ],
   "source": [
    "from recalibration import *\n",
    "from calibration_library import metrics\n",
    "uncalibrated = np.array([np.exp(x)/np.sum(np.exp(x)) for x in logits_np], dtype=np.float32)\n",
    "cnt = 0\n",
    "for i, p in enumerate(uncalibrated):\n",
    "    if np.argmax(p) == labels_np[i]:\n",
    "        cnt+=1\n",
    "print('accr : ', cnt/len(uncalibrated))"
   ]
  },
  {
   "cell_type": "code",
   "execution_count": null,
   "metadata": {},
   "outputs": [],
   "source": []
  },
  {
   "cell_type": "code",
   "execution_count": 82,
   "metadata": {},
   "outputs": [],
   "source": [
    "#tempcel = TemperatureScailing(logits_np, labels_np)\n",
    "#tempcel.fit_temperature(0.01, 100)"
   ]
  },
  {
   "cell_type": "code",
   "execution_count": 83,
   "metadata": {},
   "outputs": [
    {
     "name": "stdout",
     "output_type": "stream",
     "text": [
      "[[1.3116044e-04 1.2500000e-01 0.0000000e+00 0.0000000e+00 4.0000001e-01\n",
      "  0.0000000e+00 0.0000000e+00 3.3333334e-01 4.0000001e-01 0.0000000e+00\n",
      "  6.6666669e-01 5.0000000e-01 6.6666669e-01 7.1428573e-01 9.9040306e-01]\n",
      " [1.2723892e-03 1.5000001e-01 1.6666667e-01 5.0000000e-01 4.0000001e-01\n",
      "  5.0000000e-01 4.2857143e-01 3.3333334e-01 7.5000000e-01 6.0000002e-01\n",
      "  2.5000000e-01 3.3333334e-01 6.0000002e-01 9.1666669e-01 9.6904027e-01]\n",
      " [1.0726126e-03 2.6086956e-01 5.0000000e-01 5.0000000e-01 5.0000000e-01\n",
      "  3.3333334e-01 5.0000000e-01 5.7142860e-01 3.3333334e-01 5.0000000e-01\n",
      "  5.0000000e-01 1.0000000e+00 7.5000000e-01 6.9999999e-01 9.2990655e-01]\n",
      " [2.7995522e-03 0.0000000e+00 2.0000000e-01 0.0000000e+00 1.0000000e+00\n",
      "  2.5000000e-01 3.6363637e-01 0.0000000e+00 2.0000000e-01 1.0000000e+00\n",
      "  5.5555558e-01 7.5000000e-01 3.3333334e-01 5.5555558e-01 9.9880201e-01]\n",
      " [3.5813122e-04 3.0000001e-01 3.7500000e-01 3.3333334e-01 6.0000002e-01\n",
      "  0.0000000e+00 1.0000000e+00 1.0000000e+00 6.6666669e-01 1.0000000e+00\n",
      "  0.0000000e+00 7.5000000e-01 1.0000000e+00 1.0000000e+00 9.9041533e-01]\n",
      " [5.5349350e-04 1.7647059e-01 2.0000000e-01 4.4444445e-01 4.0000001e-01\n",
      "  0.0000000e+00 6.0000002e-01 2.5000000e-01 4.0000001e-01 6.6666669e-01\n",
      "  4.0000001e-01 6.6666669e-01 5.0000000e-01 8.3333331e-01 9.0909094e-01]]\n"
     ]
    }
   ],
   "source": [
    "ece = metrics.ECELoss()\n",
    "Histo = HistogramBinning(logits_np, labels_np, 50)\n",
    "Histo.fit_histogram()\n",
    "print(Histo.histBin)\n",
    "calibrated = Histo.calibrate()\n",
    "#calibrated = np.array([np.exp(x/temp)/np.sum(np.exp(x/temp)) for x in logits_np], dtype=np.float32)\n",
    "#calibrated = tempcel.calibrate()\n",
    "print(ece.loss(uncalibrated, labels_np, 15, False), ece.loss(calibrated, labels_np, 15, False))\n",
    "#print(uncalibrated[178])"
   ]
  },
  {
   "cell_type": "code",
   "execution_count": 72,
   "metadata": {},
   "outputs": [
    {
     "name": "stdout",
     "output_type": "stream",
     "text": [
      "0.34861040115356445 0.2594378590583801\n",
      "[1.1855407e-06 3.1328495e-06 4.1794638e-07 9.9998212e-01 8.2070670e-07\n",
      " 1.2289600e-05]\n"
     ]
    }
   ],
   "source": [
    "mce = metrics.MCELoss()\n",
    "print(mce.loss(uncalibrated, labels_np, 15, False), mce.loss(calibrated, labels_np, 15, False))\n",
    "print(uncalibrated[178])"
   ]
  },
  {
   "cell_type": "code",
   "execution_count": 73,
   "metadata": {},
   "outputs": [
    {
     "name": "stdout",
     "output_type": "stream",
     "text": [
      "0.8327181046112023 0.831759514137366\n",
      "[1.1855407e-06 3.1328495e-06 4.1794638e-07 9.9998212e-01 8.2070670e-07\n",
      " 1.2289600e-05]\n"
     ]
    }
   ],
   "source": [
    "sce = metrics.SCELoss()\n",
    "print(sce.loss(uncalibrated, labels_np, 15, False), sce.loss(calibrated, labels_np, 15, False))\n",
    "print(uncalibrated[178])"
   ]
  },
  {
   "cell_type": "code",
   "execution_count": 74,
   "metadata": {},
   "outputs": [
    {
     "name": "stdout",
     "output_type": "stream",
     "text": [
      "0.8315484537618604 0.8313703417827919\n"
     ]
    }
   ],
   "source": [
    "ace = metrics.ACELoss()\n",
    "print(ace.loss(uncalibrated, labels_np, 15, False), ace.loss(calibrated, labels_np, 15, False))\n"
   ]
  },
  {
   "cell_type": "code",
   "execution_count": 75,
   "metadata": {},
   "outputs": [
    {
     "name": "stdout",
     "output_type": "stream",
     "text": [
      "0.0018545348460759328 0.014809561610445639\n",
      "[1.1855407e-06 3.1328495e-06 4.1794638e-07 9.9998212e-01 8.2070670e-07\n",
      " 1.2289600e-05]\n"
     ]
    }
   ],
   "source": [
    "from copy import deepcopy\n",
    "tmp = deepcopy(uncalibrated)\n",
    "tmplb = deepcopy(labels_np)\n",
    "tmpca = deepcopy(calibrated)\n",
    "tace = metrics.TACELoss()\n",
    "print(tace.loss(tmp, tmplb, logits = False), tace.loss(tmpca, labels_np, logits = False))\n",
    "print(uncalibrated[178])"
   ]
  },
  {
   "cell_type": "code",
   "execution_count": 76,
   "metadata": {},
   "outputs": [
    {
     "name": "stdout",
     "output_type": "stream",
     "text": [
      "[0.         0.         0.         0.         0.33333333 0.6\n",
      " 0.41935484 0.55319149 0.525      0.65789474 0.88       0.703125\n",
      " 0.82758621 0.91284404 0.99878513]\n",
      "[0.         0.         0.         0.         0.         0.\n",
      " 0.         0.         0.         0.         0.         0.\n",
      " 0.         0.         0.92580645]\n"
     ]
    }
   ],
   "source": [
    "print(ece.bin_acc)\n",
    "print(tace.bin_acc)"
   ]
  },
  {
   "cell_type": "code",
   "execution_count": 77,
   "metadata": {},
   "outputs": [
    {
     "data": {
      "image/png": "[encoded data removed]",
      "text/plain": [
       "<Figure size 300x300 with 1 Axes>"
      ]
     },
     "metadata": {},
     "output_type": "display_data"
    }
   ],
   "source": [
    "p = draw_rel_diagram(ece.bin_acc, 15, 'Reliability Diagram')\n",
    "p.savefig('output.png')"
   ]
  },
  {
   "cell_type": "code",
   "execution_count": 78,
   "metadata": {},
   "outputs": [
    {
     "name": "stdout",
     "output_type": "stream",
     "text": [
      "1.991822361946106\n"
     ]
    }
   ],
   "source": [
    "print(tempcel.optim_temp)"
   ]
  },
  {
   "cell_type": "code",
   "execution_count": null,
   "metadata": {},
   "outputs": [],
   "source": []
  }
 ],
 "metadata": {
  "kernelspec": {
   "display_name": "shawn99",
   "language": "python",
   "name": "python3"
  },
  "language_info": {
   "codemirror_mode": {
    "name": "ipython",
    "version": 3
   },
   "file_extension": ".py",
   "mimetype": "text/x-python",
   "name": "python",
   "nbconvert_exporter": "python",
   "pygments_lexer": "ipython3",
   "version": "3.8.16"
  },
  "orig_nbformat": 4
 },
 "nbformat": 4,
 "nbformat_minor": 2
}
